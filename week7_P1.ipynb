{
  "nbformat": 4,
  "nbformat_minor": 0,
  "metadata": {
    "colab": {
      "provenance": [],
      "authorship_tag": "ABX9TyPPXj7yQfy+1QUa14Zcgcfm",
      "include_colab_link": true
    },
    "kernelspec": {
      "name": "python3",
      "display_name": "Python 3"
    },
    "language_info": {
      "name": "python"
    }
  },
  "cells": [
    {
      "cell_type": "markdown",
      "metadata": {
        "id": "view-in-github",
        "colab_type": "text"
      },
      "source": [
        "<a href=\"https://colab.research.google.com/github/sohyunxxi/ML/blob/main/week7_P1.ipynb\" target=\"_parent\"><img src=\"https://colab.research.google.com/assets/colab-badge.svg\" alt=\"Open In Colab\"/></a>"
      ]
    },
    {
      "cell_type": "markdown",
      "source": [],
      "metadata": {
        "id": "PFoTeT85r5EM"
      }
    },
    {
      "cell_type": "code",
      "execution_count": 11,
      "metadata": {
        "id": "XuLgrQ0YYuby"
      },
      "outputs": [],
      "source": [
        "import numpy as np\n",
        "import matplotlib.pyplot as plt"
      ]
    },
    {
      "cell_type": "code",
      "source": [
        "class LogisticRegression:\n",
        "    def __init__(self, learning_rate = 0.01, epoch=2000):\n",
        "        self.learning_rate = learning_rate\n",
        "        self.epoch = epoch\n",
        "        self.w = []\n",
        "        self.b = 0"
      ],
      "metadata": {
        "id": "J-nv7ODukKHH"
      },
      "execution_count": 12,
      "outputs": []
    },
    {
      "cell_type": "code",
      "source": [
        "def initialize_weight(self,dim):\n",
        "    w = np.random.normal(0,1,(dim,1))\n",
        "    b = np.random.rand(1)\n",
        "    return w,b"
      ],
      "metadata": {
        "id": "MZ-Wkb0AkrYR"
      },
      "execution_count": 13,
      "outputs": []
    },
    {
      "cell_type": "code",
      "source": [
        "def sigmoid(self,x):\n",
        "  s = 1/(1 + np.exp(-x))\n",
        "  return s"
      ],
      "metadata": {
        "id": "LbPLWCZtk6OQ"
      },
      "execution_count": 14,
      "outputs": []
    },
    {
      "cell_type": "code",
      "source": [
        "def hypothesis(self,w,X,b):\n",
        "  y_hat = self.sigmoid(np.matmul(X,w)+b)\n",
        "  y_hat = np.squeeze(y_hat)\n",
        "  return y_hat\n",
        "\n",
        "def cost(self,y_hat, y, N):\n",
        "  cost = (-1/N)*np.sum(y*np.log(y_hat)+(1-y)*np.log(1-y_hat))\n",
        "  cost = np.squeeze(cost)\n",
        "  return cost"
      ],
      "metadata": {
        "id": "_dIQ5fwOlBaK"
      },
      "execution_count": 15,
      "outputs": []
    },
    {
      "cell_type": "code",
      "source": [
        "  def cal_gradient(self, w, y_hat, X, y):\n",
        "    N = X.shape[0]\n",
        "    delta_w = (1/N)*np.matmul(X.T,(y_hat-y))\n",
        "    delta_b = (1/N)*np.sum(y_hat-y)\n",
        "    grads = {\"delta_w\":delta_w,\n",
        "             \"delta_b\":delta_b}\n",
        "    return grads"
      ],
      "metadata": {
        "id": "NYs3LbHWlOl0"
      },
      "execution_count": 16,
      "outputs": []
    },
    {
      "cell_type": "code",
      "source": [
        "def gradient_position(self,w,b,X,y):\n",
        "  N = X.shape[0]\n",
        "  y_hat = self.hypothesis(w,X,b)\n",
        "  cost = self.cost(y_hat,y,N)\n",
        "  grads = self.cal_gradient(w,y_hat,X,y)\n",
        "  return grads, cost"
      ],
      "metadata": {
        "id": "g1mcyeQbmiVN"
      },
      "execution_count": 17,
      "outputs": []
    },
    {
      "cell_type": "code",
      "source": [
        "def gradient_descent(self,w,b,X,Y, print_cost = False):\n",
        "  costs = []\n",
        "  for i in range(self.epoch):\n",
        "    grads, cost = self.gradient_position(w,b,X,Y)\n",
        "\n",
        "    delta_w = grads[\"delta_w\"]\n",
        "    delta_b = grads[\"delta_b\"]\n",
        "\n",
        "    delta_w = delta_w.reshape(-1,1)\n",
        "    w = w - (self.learning_rate * delta_w)\n",
        "    b = b - (self.learning_rate * delta_b)\n",
        "    if i% 100 == 0:\n",
        "      costs.append(cost)\n",
        "\n",
        "    if print_cost and i % 100 == 0:\n",
        "      print (\"Cost after iteration %i: %f\" %(i, cost))\n",
        "\n",
        "    params = {\"w\": w,\n",
        "              \"b\": b}\n",
        "\n",
        "  return params, costs"
      ],
      "metadata": {
        "id": "06y7IGGJmxy_"
      },
      "execution_count": 18,
      "outputs": []
    },
    {
      "cell_type": "code",
      "source": [
        "def predict(self,X):\n",
        "  X = np.array(X)\n",
        "  N = X.shape[0]\n",
        "\n",
        "  Y_prediction = np.zeros(N)\n",
        "\n",
        "  w = self.w.reshape(X.shape[1],1)\n",
        "  b = self.b\n",
        "\n",
        "  y_hat = self.hypothesis(w,X,b)\n",
        "\n",
        "  for i in range(len(y_hat)):\n",
        "    if y_hat[i] > 0.5:\n",
        "      Y_prediction[i] = 1\n",
        "    else:\n",
        "      Y_prediction[i] = 0\n",
        "\n",
        "  return Y_prediction"
      ],
      "metadata": {
        "id": "lhXULjL0nncK"
      },
      "execution_count": 19,
      "outputs": []
    },
    {
      "cell_type": "code",
      "source": [
        "def train_model(self,X_train, Y_train, print_cost = False):\n",
        "  dim = np.shape(X_train)[1]\n",
        "  w, b = self.initialize_weight(dim)\n",
        "  params, costs = self.gradient_descent(w, b, X_train, Y_train, print_cost = True)\n",
        "\n",
        "  self.w = params[\"w\"]\n",
        "  self.b = params[\"b\"]\n",
        "\n",
        "  Y_prediction_test = self.predict(X_train)\n",
        "  Y_prediction_train = self.predict(X_train)\n",
        "\n",
        "  train_score = np.mean(Y_prediction_train == Y_train)\n",
        "  test_score = np.mean(Y_prediction_test == Y_train)\n",
        "\n",
        "  print(\"train accuracy: {} %\".format(test_score))\n",
        "\n",
        "  result_dict = {\"costs\": costs,\n",
        "      \"Y_prediction_test\": Y_prediction_test,\n",
        "      \"Y_prediction_train\" : Y_prediction_train,\n",
        "      \"w\" : self.w,\n",
        "      \"b\" : self.b,\n",
        "      \"learning_rate\" : self.learning_rate,\n",
        "      \"num_iterations\": self.epoch,\n",
        "      \"train_arccuracy\": train_score,\n",
        "      \"test_accuracy\": test_score}\n",
        "  return result_dict"
      ],
      "metadata": {
        "id": "vzSOG_z9oPP2"
      },
      "execution_count": 20,
      "outputs": []
    },
    {
      "cell_type": "code",
      "source": [
        "xy_data = np.load('./data_binary.npz')\n",
        "\n",
        "X = xy_data['x']\n",
        "y = xy_data['y']\n",
        "\n",
        "train_number = int(Y.shape[0]*0.9)\n",
        "\n",
        "X_train = X[:train_number:,:]\n",
        "y_train = y[:train_number:]\n",
        "\n",
        "X_test = X[train_number:,:]\n",
        "y_test = y[train_number:]\n",
        "\n",
        "plt.scatter(X_train[Y_train==0][:,0],\n",
        "            X_train[Y_train==0][:,1],color = 'red')\n",
        "plt.scatter(X_train[Y_train==1][:,0],\n",
        "            X_train[Y_train==1][:,1],color = 'green')\n",
        "plt.show()\n",
        "plt.close()"
      ],
      "metadata": {
        "id": "Yom6UvGLpxL-",
        "outputId": "c99ec2b5-0935-4f38-e60f-4071c02cb494",
        "colab": {
          "base_uri": "https://localhost:8080/",
          "height": 430
        }
      },
      "execution_count": 26,
      "outputs": [
        {
          "output_type": "error",
          "ename": "FileNotFoundError",
          "evalue": "[Errno 2] No such file or directory: './data_binary.npz'",
          "traceback": [
            "\u001b[0;31m---------------------------------------------------------------------------\u001b[0m",
            "\u001b[0;31mFileNotFoundError\u001b[0m                         Traceback (most recent call last)",
            "\u001b[0;32m<ipython-input-26-130c360e353e>\u001b[0m in \u001b[0;36m<cell line: 0>\u001b[0;34m()\u001b[0m\n\u001b[0;32m----> 1\u001b[0;31m \u001b[0mxy_data\u001b[0m \u001b[0;34m=\u001b[0m \u001b[0mnp\u001b[0m\u001b[0;34m.\u001b[0m\u001b[0mload\u001b[0m\u001b[0;34m(\u001b[0m\u001b[0;34m'./data_binary.npz'\u001b[0m\u001b[0;34m)\u001b[0m\u001b[0;34m\u001b[0m\u001b[0;34m\u001b[0m\u001b[0m\n\u001b[0m\u001b[1;32m      2\u001b[0m \u001b[0;34m\u001b[0m\u001b[0m\n\u001b[1;32m      3\u001b[0m \u001b[0mX\u001b[0m \u001b[0;34m=\u001b[0m \u001b[0mxy_data\u001b[0m\u001b[0;34m[\u001b[0m\u001b[0;34m'x'\u001b[0m\u001b[0;34m]\u001b[0m\u001b[0;34m\u001b[0m\u001b[0;34m\u001b[0m\u001b[0m\n\u001b[1;32m      4\u001b[0m \u001b[0my\u001b[0m \u001b[0;34m=\u001b[0m \u001b[0mxy_data\u001b[0m\u001b[0;34m[\u001b[0m\u001b[0;34m'y'\u001b[0m\u001b[0;34m]\u001b[0m\u001b[0;34m\u001b[0m\u001b[0;34m\u001b[0m\u001b[0m\n\u001b[1;32m      5\u001b[0m \u001b[0;34m\u001b[0m\u001b[0m\n",
            "\u001b[0;32m/usr/local/lib/python3.11/dist-packages/numpy/lib/_npyio_impl.py\u001b[0m in \u001b[0;36mload\u001b[0;34m(file, mmap_mode, allow_pickle, fix_imports, encoding, max_header_size)\u001b[0m\n\u001b[1;32m    453\u001b[0m             \u001b[0mown_fid\u001b[0m \u001b[0;34m=\u001b[0m \u001b[0;32mFalse\u001b[0m\u001b[0;34m\u001b[0m\u001b[0;34m\u001b[0m\u001b[0m\n\u001b[1;32m    454\u001b[0m         \u001b[0;32melse\u001b[0m\u001b[0;34m:\u001b[0m\u001b[0;34m\u001b[0m\u001b[0;34m\u001b[0m\u001b[0m\n\u001b[0;32m--> 455\u001b[0;31m             \u001b[0mfid\u001b[0m \u001b[0;34m=\u001b[0m \u001b[0mstack\u001b[0m\u001b[0;34m.\u001b[0m\u001b[0menter_context\u001b[0m\u001b[0;34m(\u001b[0m\u001b[0mopen\u001b[0m\u001b[0;34m(\u001b[0m\u001b[0mos\u001b[0m\u001b[0;34m.\u001b[0m\u001b[0mfspath\u001b[0m\u001b[0;34m(\u001b[0m\u001b[0mfile\u001b[0m\u001b[0;34m)\u001b[0m\u001b[0;34m,\u001b[0m \u001b[0;34m\"rb\"\u001b[0m\u001b[0;34m)\u001b[0m\u001b[0;34m)\u001b[0m\u001b[0;34m\u001b[0m\u001b[0;34m\u001b[0m\u001b[0m\n\u001b[0m\u001b[1;32m    456\u001b[0m             \u001b[0mown_fid\u001b[0m \u001b[0;34m=\u001b[0m \u001b[0;32mTrue\u001b[0m\u001b[0;34m\u001b[0m\u001b[0;34m\u001b[0m\u001b[0m\n\u001b[1;32m    457\u001b[0m \u001b[0;34m\u001b[0m\u001b[0m\n",
            "\u001b[0;31mFileNotFoundError\u001b[0m: [Errno 2] No such file or directory: './data_binary.npz'"
          ]
        }
      ]
    },
    {
      "cell_type": "code",
      "source": [
        "from matplotlib.colors import ListedColormap\n",
        "\n",
        "LR_cls = LogisticRegression()\n",
        "result_dict = LR_cls.train_model(X_train,y_train, X_test, Y_test)\n",
        "\n",
        "x1_min, x1_max = X_train[:, 0].min() - .5, X_train[:, 0].max() + .5\n",
        "x2_min, x2_max = X_train[:, 1].min() - .5, X_train[:, 1].max() + .5\n",
        "h = .02\n",
        "xx1, xx2 = np.meshgrid(np.arange(x1_min, x1_max, h), np.arange(x2_min, x2_max, h))\n",
        "Z = LR_cls.predict(np.c_[xx.ravel(), yy.ravel()])\n",
        "Z = Z.reshape(xx.shape)\n",
        "\n",
        "cMap = ListedColormap(['red', 'green'])\n",
        "plt.pcolormesh(xx, yy, Z, cmap=cMap)\n",
        "\n",
        "plt.scatter(X_test[Y_train==0][:,0],\n",
        "            X_test[Y_test==0][:,1],color ='red',edgecolor='k')\n",
        "plt.scatter(X_test[Y_test==1][:,0],\n",
        "            X_test[Y_test==1][:,1],color ='green',edgecolor='k')\n",
        "\n",
        "plt.show()\n",
        "plt.close()"
      ],
      "metadata": {
        "id": "7y5UlGgEqjCN"
      },
      "execution_count": null,
      "outputs": []
    },
    {
      "cell_type": "code",
      "source": [
        "class MultiClassLogisticRegression:\n",
        "    def __init__(self, lr=0.01, epoch=2000):\n",
        "        self.lr = lr\n",
        "        self.epoch = epoch\n",
        "\n",
        "    def softmax(self, z):\n",
        "        exp_z = np.exp(z - np.max(z, axis=1, keepdims=True))\n",
        "        return exp_z / np.sum(exp_z, axis=1, keepdims=True)\n",
        "\n",
        "    def fit(self, X, Y):\n",
        "        n_samples, n_features = X.shape\n",
        "        n_classes = Y.shape[1]\n",
        "        self.W = np.random.randn(n_features, n_classes)\n",
        "        self.b = np.zeros((1, n_classes))\n",
        "        for i in range(self.epoch):\n",
        "            logits = np.dot(X, self.W) + self.b\n",
        "            probs = self.softmax(logits)\n",
        "            loss = -np.mean(np.sum(Y * np.log(probs + 1e-8), axis=1))\n",
        "            grad_W = np.dot(X.T, (probs - Y)) / n_samples\n",
        "            grad_b = np.sum(probs - Y, axis=0, keepdims=True) / n_samples\n",
        "            self.W -= self.lr * grad_W\n",
        "            self.b -= self.lr * grad_b\n",
        "\n",
        "    def predict(self, X):\n",
        "        logits = np.dot(X, self.W) + self.b\n",
        "        probs = self.softmax(logits)\n",
        "        return np.argmax(probs, axis=1)"
      ],
      "metadata": {
        "id": "dKmwiaKsYyrE"
      },
      "execution_count": null,
      "outputs": []
    },
    {
      "cell_type": "code",
      "source": [],
      "metadata": {
        "id": "WDgyYf9lpuE6"
      },
      "execution_count": null,
      "outputs": []
    },
    {
      "cell_type": "code",
      "source": [
        "# 데이터 로드 및 one-hot 인코딩\n",
        "data = np.load('data_3classes.npz')\n",
        "X = data['x']\n",
        "y = data['y']\n",
        "n_classes = int(np.max(y)) + 1\n",
        "Y = np.eye(n_classes)[y.astype(int)]"
      ],
      "metadata": {
        "id": "w9yRb4nhY03_"
      },
      "execution_count": null,
      "outputs": []
    },
    {
      "cell_type": "code",
      "source": [
        "# 학습/테스트 분할\n",
        "split = int(0.9 * len(y))\n",
        "X_train, X_test = X[:split], X[split:]\n",
        "Y_train, Y_test = Y[:split], Y[split:]\n",
        "y_test = y[split:]"
      ],
      "metadata": {
        "id": "AZTmG_MNY35N"
      },
      "execution_count": null,
      "outputs": []
    },
    {
      "cell_type": "code",
      "source": [
        "# 모델 학습 및 예측\n",
        "model = MultiClassLogisticRegression()\n",
        "model.fit(X_train, Y_train)\n",
        "y_pred = model.predict(X_test)"
      ],
      "metadata": {
        "id": "dOKtz19OY7tr"
      },
      "execution_count": null,
      "outputs": []
    },
    {
      "cell_type": "code",
      "source": [
        "# 시각화\n",
        "plt.scatter(X_test[:,0], X_test[:,1], c=y_pred, cmap='viridis', marker='o', label='Predicted')\n",
        "plt.scatter(X_test[:,0], X_test[:,1], c=y_test, cmap='Set1', marker='x', label='True')\n",
        "plt.legend()\n",
        "plt.title('Multi-class Logistic Regression Results')\n",
        "plt.show()"
      ],
      "metadata": {
        "colab": {
          "base_uri": "https://localhost:8080/",
          "height": 452
        },
        "id": "4gTZkGolY9aJ",
        "outputId": "6748690d-8ac5-414e-f207-09f5ddfd6e45"
      },
      "execution_count": null,
      "outputs": [
        {
          "output_type": "display_data",
          "data": {
            "text/plain": [
              "<Figure size 640x480 with 1 Axes>"
            ],
            "image/png": "[encoded data removed]"
          },
          "metadata": {}
        }
      ]
    },
    {
      "cell_type": "code",
      "source": [
        "import numpy as np\n",
        "import matplotlib.pyplot as plt\n",
        "from sklearn.datasets import fetch_openml"
      ],
      "metadata": {
        "id": "LerYoIuoY_WQ"
      },
      "execution_count": 1,
      "outputs": []
    },
    {
      "cell_type": "code",
      "source": [
        "# 1. 데이터 불러오기 및 전처리\n",
        "X, y = fetch_openml(\"Fashion-MNIST\", version=1, return_X_y=True, as_frame=False)\n",
        "X = X.astype(np.float32)\n",
        "y = y.astype(int)"
      ],
      "metadata": {
        "id": "aHUGn9MyeH2b"
      },
      "execution_count": 2,
      "outputs": []
    },
    {
      "cell_type": "code",
      "source": [
        "# z-score 정규화\n",
        "mean = np.mean(X, axis=0)\n",
        "std = np.std(X, axis=0) + 1e-8\n",
        "X = (X - mean) / std\n",
        "\n",
        "# 학습/테스트 분할\n",
        "train_X, test_X = X[:-10000], X[-10000:]\n",
        "train_y, test_y = y[:-10000], y[-10000:]\n",
        "\n",
        "# One-hot 인코딩\n",
        "n_classes = np.max(train_y) + 1\n",
        "train_Y = np.eye(n_classes)[train_y]\n",
        "test_Y = np.eye(n_classes)[test_y]"
      ],
      "metadata": {
        "id": "vptRBrYtixrf"
      },
      "execution_count": 3,
      "outputs": []
    },
    {
      "cell_type": "code",
      "source": [
        "# 2. 소프트맥스 함수\n",
        "def softmax(z):\n",
        "    z -= np.max(z, axis=1, keepdims=True)\n",
        "    exp_z = np.exp(z)\n",
        "    return exp_z / np.sum(exp_z, axis=1, keepdims=True)"
      ],
      "metadata": {
        "id": "-kzBC65wi5dq"
      },
      "execution_count": 4,
      "outputs": []
    },
    {
      "cell_type": "code",
      "source": [
        "# 3. 로지스틱 회귀 클래스 구현\n",
        "class MultiClassLogisticRegression:\n",
        "    def __init__(self, lr=0.1, epoch=1000):\n",
        "        self.lr = lr\n",
        "        self.epoch = epoch\n",
        "\n",
        "    def fit(self, X, Y):\n",
        "        n_samples, n_features = X.shape\n",
        "        n_classes = Y.shape[1]\n",
        "        self.W = np.random.randn(n_features, n_classes) * 0.01\n",
        "        self.b = np.zeros((1, n_classes))\n",
        "        for i in range(self.epoch):\n",
        "            logits = np.dot(X, self.W) + self.b\n",
        "            probs = softmax(logits)\n",
        "            loss = -np.mean(np.sum(Y * np.log(probs + 1e-8), axis=1))\n",
        "            grad_W = np.dot(X.T, (probs - Y)) / n_samples\n",
        "            grad_b = np.sum(probs - Y, axis=0, keepdims=True) / n_samples\n",
        "            self.W -= self.lr * grad_W\n",
        "            self.b -= self.lr * grad_b\n",
        "            if i % 100 == 0:\n",
        "                print(f\"Epoch {i}, Loss: {loss:.4f}\")\n",
        "\n",
        "    def predict(self, X):\n",
        "        logits = np.dot(X, self.W) + self.b\n",
        "        probs = softmax(logits)\n",
        "        return np.argmax(probs, axis=1)"
      ],
      "metadata": {
        "id": "RFnilNLHi77C"
      },
      "execution_count": 5,
      "outputs": []
    },
    {
      "cell_type": "code",
      "source": [
        "# 4. 모델 학습 및 평가\n",
        "model = MultiClassLogisticRegression(lr=0.1, epoch=1000)\n",
        "model.fit(train_X, train_Y)\n",
        "y_pred = model.predict(test_X)\n",
        "accuracy = np.mean(y_pred == test_y)\n",
        "print(f\"Test accuracy: {accuracy * 100:.2f}%\")"
      ],
      "metadata": {
        "id": "fGlZIvoTi-Em",
        "outputId": "8a5793fc-4ef2-440a-ab33-8c10a64d33e9",
        "colab": {
          "base_uri": "https://localhost:8080/"
        }
      },
      "execution_count": 6,
      "outputs": [
        {
          "output_type": "stream",
          "name": "stdout",
          "text": [
            "Epoch 0, Loss: 2.3091\n",
            "Epoch 100, Loss: 0.4693\n",
            "Epoch 200, Loss: 0.4386\n",
            "Epoch 300, Loss: 0.4240\n",
            "Epoch 400, Loss: 0.4149\n",
            "Epoch 500, Loss: 0.4083\n",
            "Epoch 600, Loss: 0.4033\n",
            "Epoch 700, Loss: 0.3993\n",
            "Epoch 800, Loss: 0.3959\n",
            "Epoch 900, Loss: 0.3930\n",
            "Test accuracy: 84.53%\n"
          ]
        }
      ]
    },
    {
      "cell_type": "code",
      "source": [],
      "metadata": {
        "id": "oOPcbKW2i_LF"
      },
      "execution_count": null,
      "outputs": []
    }
  ]
}